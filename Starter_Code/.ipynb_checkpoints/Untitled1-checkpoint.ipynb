{
 "cells": [
  {
   "cell_type": "code",
   "execution_count": null,
   "id": "2f3b7d19-bb70-4c5c-8b90-bd75def38b72",
   "metadata": {},
   "outputs": [],
   "source": [
    "import pandas as pd\n",
    "\n",
    "data = [[50, True, \"M\"], [40, False, \"M\"], [30, False, \"F\"], [45, False, \"F\"], [33, False, \"M\"]]\n",
    "label_rows = [\"Sally\", \"Mary\", \"John\", \"Noah\", \"Josh\"]\n",
    "label_cols = [\"age\", \"qualified\", \"Gender\"]\n",
    "\n",
    "df = pd.DataFrame(data, label_rows, label_cols)\n",
    "\n"
   ]
  },
  {
   "cell_type": "code",
   "execution_count": null,
   "id": "1b290926-5170-4ae7-867f-05f36a5cae0f",
   "metadata": {},
   "outputs": [],
   "source": [
    "print(df)\n",
    "print(\"\")\n",
    "print(df.loc[:, :])"
   ]
  },
  {
   "cell_type": "code",
   "execution_count": null,
   "id": "29e16c53-28e4-4c56-8aad-57379080e9d3",
   "metadata": {},
   "outputs": [],
   "source": [
    "print(\"\")\n",
    "print(df.loc[\"Mary\":\"Noah\", :])\n"
   ]
  },
  {
   "cell_type": "code",
   "execution_count": null,
   "id": "da85b076-1926-43ab-95db-34712ffca212",
   "metadata": {},
   "outputs": [],
   "source": [
    "print(\"\")\n",
    "print(df.iloc[1:4, 0:2])\n"
   ]
  },
  {
   "cell_type": "code",
   "execution_count": null,
   "id": "4ba4d052-c47f-4204-aba1-4aaaa9906616",
   "metadata": {},
   "outputs": [],
   "source": [
    "\n",
    "print(\"\")\n",
    "df[\"half_age\"] = df[\"age\"] / 2\n",
    "print(df)\n"
   ]
  },
  {
   "cell_type": "code",
   "execution_count": null,
   "id": "9a028b2e-a9a8-43ea-a753-c8485fdda167",
   "metadata": {},
   "outputs": [],
   "source": [
    "print(\"\")\n",
    "print(df[\"age\"]>33)\n",
    "print(\"\")\n",
    "print(df.loc[df[\"age\"]>33, :])"
   ]
  }
 ],
 "metadata": {
  "kernelspec": {
   "display_name": "Python 3 (ipykernel)",
   "language": "python",
   "name": "python3"
  },
  "language_info": {
   "codemirror_mode": {
    "name": "ipython",
    "version": 3
   },
   "file_extension": ".py",
   "mimetype": "text/x-python",
   "name": "python",
   "nbconvert_exporter": "python",
   "pygments_lexer": "ipython3",
   "version": "3.10.14"
  }
 },
 "nbformat": 4,
 "nbformat_minor": 5
}
